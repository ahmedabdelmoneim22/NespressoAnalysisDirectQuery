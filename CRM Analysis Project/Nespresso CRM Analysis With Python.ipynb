{
 "cells": [
  {
   "cell_type": "code",
   "execution_count": 3,
   "id": "77671a99-3169-402a-aece-424bd849dbd5",
   "metadata": {},
   "outputs": [
    {
     "name": "stdout",
     "output_type": "stream",
     "text": [
      "Nespresso CRM Analysis Project\n"
     ]
    }
   ],
   "source": [
    "print(\"Nespresso CRM Analysis Project\")"
   ]
  },
  {
   "cell_type": "code",
   "execution_count": 4,
   "id": "d02eb372-e10c-4f9c-8fbf-bebf0d8260f0",
   "metadata": {},
   "outputs": [
    {
     "data": {
      "text/html": [
       "<div>\n",
       "<style scoped>\n",
       "    .dataframe tbody tr th:only-of-type {\n",
       "        vertical-align: middle;\n",
       "    }\n",
       "\n",
       "    .dataframe tbody tr th {\n",
       "        vertical-align: top;\n",
       "    }\n",
       "\n",
       "    .dataframe thead th {\n",
       "        text-align: right;\n",
       "    }\n",
       "</style>\n",
       "<table border=\"1\" class=\"dataframe\">\n",
       "  <thead>\n",
       "    <tr style=\"text-align: right;\">\n",
       "      <th></th>\n",
       "      <th>Invoice Type</th>\n",
       "      <th>INVOICENUMBER</th>\n",
       "      <th>INVOICEDATE</th>\n",
       "      <th>Channel</th>\n",
       "      <th>Item Group</th>\n",
       "      <th>PRODUCTNUMBER</th>\n",
       "      <th>PRODUCTNAME</th>\n",
       "      <th>QUANTITY</th>\n",
       "      <th>CUSTOMERACCOUNT</th>\n",
       "    </tr>\n",
       "  </thead>\n",
       "  <tbody>\n",
       "    <tr>\n",
       "      <th>0</th>\n",
       "      <td>Invoice</td>\n",
       "      <td>EINC-152524</td>\n",
       "      <td>2023-01-01</td>\n",
       "      <td>CRC</td>\n",
       "      <td>B2C Capsules</td>\n",
       "      <td>773100</td>\n",
       "      <td>BC CCA TRF كوكو ترافل</td>\n",
       "      <td>30</td>\n",
       "      <td>1100305515</td>\n",
       "    </tr>\n",
       "    <tr>\n",
       "      <th>1</th>\n",
       "      <td>Invoice</td>\n",
       "      <td>EINC-152524</td>\n",
       "      <td>2023-01-01</td>\n",
       "      <td>CRC</td>\n",
       "      <td>B2C Capsules</td>\n",
       "      <td>760800</td>\n",
       "      <td>Paris Espresso</td>\n",
       "      <td>30</td>\n",
       "      <td>1100305515</td>\n",
       "    </tr>\n",
       "    <tr>\n",
       "      <th>2</th>\n",
       "      <td>Invoice</td>\n",
       "      <td>EINC-152524</td>\n",
       "      <td>2023-01-01</td>\n",
       "      <td>CRC</td>\n",
       "      <td>B2C Capsules</td>\n",
       "      <td>756800</td>\n",
       "      <td>Ristretto Italy ريستريتو</td>\n",
       "      <td>180</td>\n",
       "      <td>1100305515</td>\n",
       "    </tr>\n",
       "    <tr>\n",
       "      <th>3</th>\n",
       "      <td>Invoice</td>\n",
       "      <td>EINC-152524</td>\n",
       "      <td>2023-01-01</td>\n",
       "      <td>CRC</td>\n",
       "      <td>B2C Capsules</td>\n",
       "      <td>772800</td>\n",
       "      <td>BC Van Ecler فانيلا اكلير</td>\n",
       "      <td>30</td>\n",
       "      <td>1100305515</td>\n",
       "    </tr>\n",
       "    <tr>\n",
       "      <th>4</th>\n",
       "      <td>Invoice</td>\n",
       "      <td>EINC-152524</td>\n",
       "      <td>2023-01-01</td>\n",
       "      <td>CRC</td>\n",
       "      <td>B2C Capsules</td>\n",
       "      <td>776400</td>\n",
       "      <td>Freddo Intenso</td>\n",
       "      <td>30</td>\n",
       "      <td>1100305515</td>\n",
       "    </tr>\n",
       "    <tr>\n",
       "      <th>...</th>\n",
       "      <td>...</td>\n",
       "      <td>...</td>\n",
       "      <td>...</td>\n",
       "      <td>...</td>\n",
       "      <td>...</td>\n",
       "      <td>...</td>\n",
       "      <td>...</td>\n",
       "      <td>...</td>\n",
       "      <td>...</td>\n",
       "    </tr>\n",
       "    <tr>\n",
       "      <th>73587</th>\n",
       "      <td>Invoice</td>\n",
       "      <td>EINC-304454</td>\n",
       "      <td>2024-10-31</td>\n",
       "      <td>CRC</td>\n",
       "      <td>B2C Capsules</td>\n",
       "      <td>776500</td>\n",
       "      <td>ISP ARPEGGIO 20x53g R70</td>\n",
       "      <td>120</td>\n",
       "      <td>2100600447</td>\n",
       "    </tr>\n",
       "    <tr>\n",
       "      <th>73588</th>\n",
       "      <td>Invoice</td>\n",
       "      <td>EINC-304481</td>\n",
       "      <td>2024-10-31</td>\n",
       "      <td>CRC</td>\n",
       "      <td>B2C Capsules</td>\n",
       "      <td>776500</td>\n",
       "      <td>ISP ARPEGGIO 20x53g R70</td>\n",
       "      <td>120</td>\n",
       "      <td>1100905041</td>\n",
       "    </tr>\n",
       "    <tr>\n",
       "      <th>73589</th>\n",
       "      <td>Invoice</td>\n",
       "      <td>EINC-304481</td>\n",
       "      <td>2024-10-31</td>\n",
       "      <td>CRC</td>\n",
       "      <td>B2C Capsules</td>\n",
       "      <td>776500</td>\n",
       "      <td>ISP ARPEGGIO 20x53g R70</td>\n",
       "      <td>60</td>\n",
       "      <td>1100905041</td>\n",
       "    </tr>\n",
       "    <tr>\n",
       "      <th>73590</th>\n",
       "      <td>Invoice</td>\n",
       "      <td>EINC-304481</td>\n",
       "      <td>2024-10-31</td>\n",
       "      <td>CRC</td>\n",
       "      <td>B2C Capsules</td>\n",
       "      <td>774600</td>\n",
       "      <td>ISP RIST DECAF 20x57g R70</td>\n",
       "      <td>60</td>\n",
       "      <td>1100905041</td>\n",
       "    </tr>\n",
       "    <tr>\n",
       "      <th>73591</th>\n",
       "      <td>Invoice</td>\n",
       "      <td>EINC-304453</td>\n",
       "      <td>2024-10-31</td>\n",
       "      <td>CRC</td>\n",
       "      <td>B2C Capsules</td>\n",
       "      <td>776500</td>\n",
       "      <td>ISP ARPEGGIO 20x53g R70</td>\n",
       "      <td>30</td>\n",
       "      <td>C-046867</td>\n",
       "    </tr>\n",
       "  </tbody>\n",
       "</table>\n",
       "<p>73592 rows × 9 columns</p>\n",
       "</div>"
      ],
      "text/plain": [
       "      Invoice Type INVOICENUMBER INVOICEDATE Channel    Item Group  \\\n",
       "0          Invoice   EINC-152524  2023-01-01     CRC  B2C Capsules   \n",
       "1          Invoice   EINC-152524  2023-01-01     CRC  B2C Capsules   \n",
       "2          Invoice   EINC-152524  2023-01-01     CRC  B2C Capsules   \n",
       "3          Invoice   EINC-152524  2023-01-01     CRC  B2C Capsules   \n",
       "4          Invoice   EINC-152524  2023-01-01     CRC  B2C Capsules   \n",
       "...            ...           ...         ...     ...           ...   \n",
       "73587      Invoice   EINC-304454  2024-10-31     CRC  B2C Capsules   \n",
       "73588      Invoice   EINC-304481  2024-10-31     CRC  B2C Capsules   \n",
       "73589      Invoice   EINC-304481  2024-10-31     CRC  B2C Capsules   \n",
       "73590      Invoice   EINC-304481  2024-10-31     CRC  B2C Capsules   \n",
       "73591      Invoice   EINC-304453  2024-10-31     CRC  B2C Capsules   \n",
       "\n",
       "       PRODUCTNUMBER                PRODUCTNAME  QUANTITY CUSTOMERACCOUNT  \n",
       "0             773100      BC CCA TRF كوكو ترافل        30      1100305515  \n",
       "1             760800             Paris Espresso        30      1100305515  \n",
       "2             756800   Ristretto Italy ريستريتو       180      1100305515  \n",
       "3             772800  BC Van Ecler فانيلا اكلير        30      1100305515  \n",
       "4             776400             Freddo Intenso        30      1100305515  \n",
       "...              ...                        ...       ...             ...  \n",
       "73587         776500    ISP ARPEGGIO 20x53g R70       120      2100600447  \n",
       "73588         776500    ISP ARPEGGIO 20x53g R70       120      1100905041  \n",
       "73589         776500    ISP ARPEGGIO 20x53g R70        60      1100905041  \n",
       "73590         774600  ISP RIST DECAF 20x57g R70        60      1100905041  \n",
       "73591         776500    ISP ARPEGGIO 20x53g R70        30        C-046867  \n",
       "\n",
       "[73592 rows x 9 columns]"
      ]
     },
     "execution_count": 4,
     "metadata": {},
     "output_type": "execute_result"
    }
   ],
   "source": [
    "import pandas as pd\n",
    "data = pd.read_excel(\"RD.xlsx\")\n",
    "data"
   ]
  },
  {
   "cell_type": "code",
   "execution_count": 5,
   "id": "c52f234e-adc2-4025-93fb-f8baf9f51f77",
   "metadata": {},
   "outputs": [
    {
     "name": "stdout",
     "output_type": "stream",
     "text": [
      "Calculate Total Active Customers\n",
      "The Total Active Customers In 2023 & 2024 IS: 11454\n"
     ]
    }
   ],
   "source": [
    "print(\"Calculate Total Active Customers\")\n",
    "print(\"The Total Active Customers In 2023 & 2024 IS:\",len(data[\"CUSTOMERACCOUNT\"].unique()))"
   ]
  },
  {
   "cell_type": "code",
   "execution_count": 6,
   "id": "e9385197-abff-4f1b-b3f2-4b03b6a6a8bd",
   "metadata": {},
   "outputs": [
    {
     "name": "stdout",
     "output_type": "stream",
     "text": [
      "Calculate Active Customers In 2023\n",
      "The Total Active Customers In 2023 Is: 8612\n"
     ]
    }
   ],
   "source": [
    "print(\"Calculate Active Customers In 2023\")\n",
    "print(\"The Total Active Customers In 2023 Is:\",\n",
    "len(data[(data[\"INVOICEDATE\"]>=\"2023-1-1\") & (data[\"INVOICEDATE\"]<=\"2023-12-31\")][\"CUSTOMERACCOUNT\"].unique()))"
   ]
  },
  {
   "cell_type": "code",
   "execution_count": 7,
   "id": "dc593256-9007-470a-a9e1-4569bbb0fd4b",
   "metadata": {},
   "outputs": [
    {
     "name": "stdout",
     "output_type": "stream",
     "text": [
      "Calculate Active Customers In 2024\n",
      "The Total Active Customers In 2024 Is: 4247\n"
     ]
    }
   ],
   "source": [
    "print(\"Calculate Active Customers In 2024\")\n",
    "print(\"The Total Active Customers In 2024 Is:\",\n",
    "len(data[(data[\"INVOICEDATE\"]>=\"2024-1-1\") & (data[\"INVOICEDATE\"]<=\"2024-12-31\")][\"CUSTOMERACCOUNT\"].unique()))"
   ]
  },
  {
   "cell_type": "code",
   "execution_count": 8,
   "id": "750ace0b-05c5-44ef-8122-1aa5b23d3efe",
   "metadata": {},
   "outputs": [
    {
     "data": {
      "text/plain": [
       "array(['1100201438', '1100215113', '1100220303', ..., '2100600447',\n",
       "       '1100905041', 'C-046867'], dtype=object)"
      ]
     },
     "execution_count": 8,
     "metadata": {},
     "output_type": "execute_result"
    }
   ],
   "source": [
    "data[(data[\"INVOICEDATE\"]>=\"2024-1-1\") & (data[\"INVOICEDATE\"]<=\"2024-12-31\")][\"CUSTOMERACCOUNT\"].unique()"
   ]
  },
  {
   "cell_type": "code",
   "execution_count": 9,
   "id": "c0a781a2-c8c7-43c2-aa9b-dcf54f1534b4",
   "metadata": {},
   "outputs": [
    {
     "data": {
      "text/plain": [
       "array(['1100305515', '1100912816', '1100903570', ..., '1100215113',\n",
       "       '1100900496', 'C-051797'], dtype=object)"
      ]
     },
     "execution_count": 9,
     "metadata": {},
     "output_type": "execute_result"
    }
   ],
   "source": [
    "data[(data[\"INVOICEDATE\"]>=\"2023-1-1\") & (data[\"INVOICEDATE\"]<=\"2023-12-31\")][\"CUSTOMERACCOUNT\"].unique()"
   ]
  },
  {
   "cell_type": "code",
   "execution_count": 10,
   "id": "4b476939-5e9d-4be2-a3fd-fbfdd29f2d4b",
   "metadata": {},
   "outputs": [
    {
     "name": "stdout",
     "output_type": "stream",
     "text": [
      "1405\n"
     ]
    }
   ],
   "source": [
    "i = 0\n",
    "for CustomerAccount in data[(data[\"INVOICEDATE\"]>=\"2024-1-1\") & (data[\"INVOICEDATE\"]<=\"2024-12-31\")][\"CUSTOMERACCOUNT\"].unique():\n",
    "    if CustomerAccount in data[(data[\"INVOICEDATE\"]>=\"2023-1-1\") & (data[\"INVOICEDATE\"]<=\"2023-12-31\")][\"CUSTOMERACCOUNT\"].unique():\n",
    "        i = i + 1\n",
    "print(i)"
   ]
  },
  {
   "cell_type": "code",
   "execution_count": 11,
   "id": "fabab0c8-010c-4b19-8380-492e1108c343",
   "metadata": {},
   "outputs": [
    {
     "name": "stdout",
     "output_type": "stream",
     "text": [
      "2842\n"
     ]
    }
   ],
   "source": [
    "i = 0\n",
    "for CustomerAccount in data[(data[\"INVOICEDATE\"]>=\"2024-1-1\") & (data[\"INVOICEDATE\"]<=\"2024-12-31\")][\"CUSTOMERACCOUNT\"].unique():\n",
    "    if CustomerAccount not in data[(data[\"INVOICEDATE\"]>=\"2023-1-1\") & (data[\"INVOICEDATE\"]<=\"2023-12-31\")][\"CUSTOMERACCOUNT\"].unique():\n",
    "        i = i + 1\n",
    "print(i)"
   ]
  },
  {
   "cell_type": "code",
   "execution_count": 12,
   "id": "a47bcfd2-5757-436b-866c-8a28487d82fd",
   "metadata": {},
   "outputs": [
    {
     "name": "stdout",
     "output_type": "stream",
     "text": [
      "4247\n"
     ]
    }
   ],
   "source": [
    "print(1405 + 2842)"
   ]
  },
  {
   "cell_type": "code",
   "execution_count": 13,
   "id": "8c5de636-8268-4bd9-b737-d6562872a036",
   "metadata": {},
   "outputs": [
    {
     "name": "stdout",
     "output_type": "stream",
     "text": [
      "New Customers In 2024: 2842\n",
      "Exicting Customers In 2024: 1405\n"
     ]
    }
   ],
   "source": [
    "print(\"New Customers In 2024:\",2842)\n",
    "print(\"Exicting Customers In 2024:\",1405)"
   ]
  },
  {
   "cell_type": "code",
   "execution_count": 14,
   "id": "246356fd-518c-41dc-b41a-f91b45818efd",
   "metadata": {},
   "outputs": [
    {
     "name": "stdout",
     "output_type": "stream",
     "text": [
      "Attrition Rate\n",
      "Attrition Rate =  50.69 %\n"
     ]
    }
   ],
   "source": [
    "print(\"Attrition Rate\")\n",
    "print(\"Attrition Rate = \",round(((8612 - 4247) / 8612) * 100,2),\"%\")"
   ]
  },
  {
   "cell_type": "code",
   "execution_count": 15,
   "id": "ccf5d4f8-2d33-456a-bbd7-a366989a67b5",
   "metadata": {},
   "outputs": [
    {
     "name": "stdout",
     "output_type": "stream",
     "text": [
      "Sold Capsules 2023 & 2024\n",
      "Total Sold Capsules In 2023 & 2024 IS: 5614653\n"
     ]
    }
   ],
   "source": [
    "print(\"Sold Capsules 2023 & 2024\")\n",
    "print(\"Total Sold Capsules In 2023 & 2024 IS:\",sum(data[\"QUANTITY\"]))"
   ]
  },
  {
   "cell_type": "code",
   "execution_count": 16,
   "id": "b09e1ddf-9145-4854-badf-c47fbc9f5df5",
   "metadata": {},
   "outputs": [
    {
     "name": "stdout",
     "output_type": "stream",
     "text": [
      "Sold Capsules In 2023 IS: 4124253\n"
     ]
    }
   ],
   "source": [
    "print(\"Sold Capsules In 2023 IS:\",\n",
    "sum(data[(data[\"INVOICEDATE\"]>=\"2023-1-1\") & (data[\"INVOICEDATE\"]<=\"2023-12-31\")][\"QUANTITY\"]))"
   ]
  },
  {
   "cell_type": "code",
   "execution_count": 17,
   "id": "06b20434-0790-42a6-8ccd-dd6be30b9e53",
   "metadata": {},
   "outputs": [
    {
     "name": "stdout",
     "output_type": "stream",
     "text": [
      "Sold Capsules In 2024 IS: 1490400\n"
     ]
    }
   ],
   "source": [
    "print(\"Sold Capsules In 2024 IS:\",\n",
    "sum(data[(data[\"INVOICEDATE\"]>=\"2024-1-1\") & (data[\"INVOICEDATE\"]<=\"2024-12-31\")][\"QUANTITY\"]))"
   ]
  },
  {
   "cell_type": "code",
   "execution_count": 18,
   "id": "61448cbd-2fb4-4398-adff-14888ffbe4ba",
   "metadata": {},
   "outputs": [
    {
     "name": "stdout",
     "output_type": "stream",
     "text": [
      "Number of Orders 2023 & 2024\n",
      "Total Sold Capsules In 2023 & 2024 IS: 20816\n"
     ]
    }
   ],
   "source": [
    "print(\"Number of Orders 2023 & 2024\")\n",
    "print(\"Total Sold Capsules In 2023 & 2024 IS:\",data[\"INVOICENUMBER\"].nunique())"
   ]
  },
  {
   "cell_type": "code",
   "execution_count": 19,
   "id": "5bda7d0c-8705-4b90-bd4b-46779b40076f",
   "metadata": {},
   "outputs": [
    {
     "name": "stdout",
     "output_type": "stream",
     "text": [
      "Number of Orders In 2023 IS: 14188\n"
     ]
    }
   ],
   "source": [
    "print(\"Number of Orders In 2023 IS:\",\n",
    "data[(data[\"INVOICEDATE\"]>=\"2023-1-1\") & (data[\"INVOICEDATE\"]<=\"2023-12-31\")][\"INVOICENUMBER\"].nunique())"
   ]
  },
  {
   "cell_type": "code",
   "execution_count": 20,
   "id": "934b392f-9d01-4548-877b-44a12626ae72",
   "metadata": {},
   "outputs": [
    {
     "name": "stdout",
     "output_type": "stream",
     "text": [
      "Number of Orders In 2024 IS: 6628\n"
     ]
    }
   ],
   "source": [
    "print(\"Number of Orders In 2024 IS:\",\n",
    "data[(data[\"INVOICEDATE\"]>=\"2024-1-1\") & (data[\"INVOICEDATE\"]<=\"2024-12-31\")][\"INVOICENUMBER\"].nunique())"
   ]
  },
  {
   "cell_type": "code",
   "execution_count": 21,
   "id": "50d8c7de-57e9-488b-88e5-67bd072b17e0",
   "metadata": {},
   "outputs": [
    {
     "name": "stdout",
     "output_type": "stream",
     "text": [
      "Average Order Size in Caps 2023 & 2024: 269.7277574942352\n"
     ]
    }
   ],
   "source": [
    "print(\"Average Order Size in Caps 2023 & 2024:\",\n",
    "sum(data[\"QUANTITY\"]) / data[\"INVOICENUMBER\"].nunique())"
   ]
  },
  {
   "cell_type": "code",
   "execution_count": 22,
   "id": "2c6e44ef-3ad2-4f42-8f65-54c01471d365",
   "metadata": {},
   "outputs": [
    {
     "name": "stdout",
     "output_type": "stream",
     "text": [
      "Average Order Size in Caps 2023 IS: 290.6860022554271\n"
     ]
    }
   ],
   "source": [
    "print(\"Average Order Size in Caps 2023 IS:\", 4124253 / 14188)"
   ]
  },
  {
   "cell_type": "code",
   "execution_count": 23,
   "id": "e9591dee-591e-40b6-94c1-b8360bd4fb37",
   "metadata": {},
   "outputs": [
    {
     "name": "stdout",
     "output_type": "stream",
     "text": [
      "Average Order Size in Caps 2024 IS: 224.86421243210623\n"
     ]
    }
   ],
   "source": [
    "print(\"Average Order Size in Caps 2024 IS:\", 1490400 / 6628)"
   ]
  },
  {
   "cell_type": "code",
   "execution_count": 24,
   "id": "e8d8894c-1751-4a7d-a460-e7a1a1512cb6",
   "metadata": {},
   "outputs": [
    {
     "name": "stdout",
     "output_type": "stream",
     "text": [
      "****************************************************\n"
     ]
    }
   ],
   "source": [
    "print(\"****************************************************\")"
   ]
  },
  {
   "cell_type": "code",
   "execution_count": 25,
   "id": "acde6de8-960c-4c71-a82b-7614925295ad",
   "metadata": {},
   "outputs": [],
   "source": [
    "#data"
   ]
  },
  {
   "cell_type": "code",
   "execution_count": 26,
   "id": "60b72134-c662-46b9-a68c-b76e7713aaec",
   "metadata": {},
   "outputs": [],
   "source": [
    "DataFrame = pd.DataFrame(data)"
   ]
  },
  {
   "cell_type": "code",
   "execution_count": 27,
   "id": "29678d35-cdf2-4475-96c8-d1a3607771fe",
   "metadata": {},
   "outputs": [
    {
     "data": {
      "text/html": [
       "<div>\n",
       "<style scoped>\n",
       "    .dataframe tbody tr th:only-of-type {\n",
       "        vertical-align: middle;\n",
       "    }\n",
       "\n",
       "    .dataframe tbody tr th {\n",
       "        vertical-align: top;\n",
       "    }\n",
       "\n",
       "    .dataframe thead th {\n",
       "        text-align: right;\n",
       "    }\n",
       "</style>\n",
       "<table border=\"1\" class=\"dataframe\">\n",
       "  <thead>\n",
       "    <tr style=\"text-align: right;\">\n",
       "      <th></th>\n",
       "      <th>Invoice Type</th>\n",
       "      <th>INVOICENUMBER</th>\n",
       "      <th>INVOICEDATE</th>\n",
       "      <th>Channel</th>\n",
       "      <th>Item Group</th>\n",
       "      <th>PRODUCTNUMBER</th>\n",
       "      <th>PRODUCTNAME</th>\n",
       "      <th>QUANTITY</th>\n",
       "      <th>CUSTOMERACCOUNT</th>\n",
       "    </tr>\n",
       "  </thead>\n",
       "  <tbody>\n",
       "    <tr>\n",
       "      <th>0</th>\n",
       "      <td>Invoice</td>\n",
       "      <td>EINC-152524</td>\n",
       "      <td>2023-01-01</td>\n",
       "      <td>CRC</td>\n",
       "      <td>B2C Capsules</td>\n",
       "      <td>773100</td>\n",
       "      <td>BC CCA TRF كوكو ترافل</td>\n",
       "      <td>30</td>\n",
       "      <td>1100305515</td>\n",
       "    </tr>\n",
       "    <tr>\n",
       "      <th>1</th>\n",
       "      <td>Invoice</td>\n",
       "      <td>EINC-152524</td>\n",
       "      <td>2023-01-01</td>\n",
       "      <td>CRC</td>\n",
       "      <td>B2C Capsules</td>\n",
       "      <td>760800</td>\n",
       "      <td>Paris Espresso</td>\n",
       "      <td>30</td>\n",
       "      <td>1100305515</td>\n",
       "    </tr>\n",
       "    <tr>\n",
       "      <th>2</th>\n",
       "      <td>Invoice</td>\n",
       "      <td>EINC-152524</td>\n",
       "      <td>2023-01-01</td>\n",
       "      <td>CRC</td>\n",
       "      <td>B2C Capsules</td>\n",
       "      <td>756800</td>\n",
       "      <td>Ristretto Italy ريستريتو</td>\n",
       "      <td>180</td>\n",
       "      <td>1100305515</td>\n",
       "    </tr>\n",
       "    <tr>\n",
       "      <th>3</th>\n",
       "      <td>Invoice</td>\n",
       "      <td>EINC-152524</td>\n",
       "      <td>2023-01-01</td>\n",
       "      <td>CRC</td>\n",
       "      <td>B2C Capsules</td>\n",
       "      <td>772800</td>\n",
       "      <td>BC Van Ecler فانيلا اكلير</td>\n",
       "      <td>30</td>\n",
       "      <td>1100305515</td>\n",
       "    </tr>\n",
       "    <tr>\n",
       "      <th>4</th>\n",
       "      <td>Invoice</td>\n",
       "      <td>EINC-152524</td>\n",
       "      <td>2023-01-01</td>\n",
       "      <td>CRC</td>\n",
       "      <td>B2C Capsules</td>\n",
       "      <td>776400</td>\n",
       "      <td>Freddo Intenso</td>\n",
       "      <td>30</td>\n",
       "      <td>1100305515</td>\n",
       "    </tr>\n",
       "    <tr>\n",
       "      <th>...</th>\n",
       "      <td>...</td>\n",
       "      <td>...</td>\n",
       "      <td>...</td>\n",
       "      <td>...</td>\n",
       "      <td>...</td>\n",
       "      <td>...</td>\n",
       "      <td>...</td>\n",
       "      <td>...</td>\n",
       "      <td>...</td>\n",
       "    </tr>\n",
       "    <tr>\n",
       "      <th>73587</th>\n",
       "      <td>Invoice</td>\n",
       "      <td>EINC-304454</td>\n",
       "      <td>2024-10-31</td>\n",
       "      <td>CRC</td>\n",
       "      <td>B2C Capsules</td>\n",
       "      <td>776500</td>\n",
       "      <td>ISP ARPEGGIO 20x53g R70</td>\n",
       "      <td>120</td>\n",
       "      <td>2100600447</td>\n",
       "    </tr>\n",
       "    <tr>\n",
       "      <th>73588</th>\n",
       "      <td>Invoice</td>\n",
       "      <td>EINC-304481</td>\n",
       "      <td>2024-10-31</td>\n",
       "      <td>CRC</td>\n",
       "      <td>B2C Capsules</td>\n",
       "      <td>776500</td>\n",
       "      <td>ISP ARPEGGIO 20x53g R70</td>\n",
       "      <td>120</td>\n",
       "      <td>1100905041</td>\n",
       "    </tr>\n",
       "    <tr>\n",
       "      <th>73589</th>\n",
       "      <td>Invoice</td>\n",
       "      <td>EINC-304481</td>\n",
       "      <td>2024-10-31</td>\n",
       "      <td>CRC</td>\n",
       "      <td>B2C Capsules</td>\n",
       "      <td>776500</td>\n",
       "      <td>ISP ARPEGGIO 20x53g R70</td>\n",
       "      <td>60</td>\n",
       "      <td>1100905041</td>\n",
       "    </tr>\n",
       "    <tr>\n",
       "      <th>73590</th>\n",
       "      <td>Invoice</td>\n",
       "      <td>EINC-304481</td>\n",
       "      <td>2024-10-31</td>\n",
       "      <td>CRC</td>\n",
       "      <td>B2C Capsules</td>\n",
       "      <td>774600</td>\n",
       "      <td>ISP RIST DECAF 20x57g R70</td>\n",
       "      <td>60</td>\n",
       "      <td>1100905041</td>\n",
       "    </tr>\n",
       "    <tr>\n",
       "      <th>73591</th>\n",
       "      <td>Invoice</td>\n",
       "      <td>EINC-304453</td>\n",
       "      <td>2024-10-31</td>\n",
       "      <td>CRC</td>\n",
       "      <td>B2C Capsules</td>\n",
       "      <td>776500</td>\n",
       "      <td>ISP ARPEGGIO 20x53g R70</td>\n",
       "      <td>30</td>\n",
       "      <td>C-046867</td>\n",
       "    </tr>\n",
       "  </tbody>\n",
       "</table>\n",
       "<p>73592 rows × 9 columns</p>\n",
       "</div>"
      ],
      "text/plain": [
       "      Invoice Type INVOICENUMBER INVOICEDATE Channel    Item Group  \\\n",
       "0          Invoice   EINC-152524  2023-01-01     CRC  B2C Capsules   \n",
       "1          Invoice   EINC-152524  2023-01-01     CRC  B2C Capsules   \n",
       "2          Invoice   EINC-152524  2023-01-01     CRC  B2C Capsules   \n",
       "3          Invoice   EINC-152524  2023-01-01     CRC  B2C Capsules   \n",
       "4          Invoice   EINC-152524  2023-01-01     CRC  B2C Capsules   \n",
       "...            ...           ...         ...     ...           ...   \n",
       "73587      Invoice   EINC-304454  2024-10-31     CRC  B2C Capsules   \n",
       "73588      Invoice   EINC-304481  2024-10-31     CRC  B2C Capsules   \n",
       "73589      Invoice   EINC-304481  2024-10-31     CRC  B2C Capsules   \n",
       "73590      Invoice   EINC-304481  2024-10-31     CRC  B2C Capsules   \n",
       "73591      Invoice   EINC-304453  2024-10-31     CRC  B2C Capsules   \n",
       "\n",
       "       PRODUCTNUMBER                PRODUCTNAME  QUANTITY CUSTOMERACCOUNT  \n",
       "0             773100      BC CCA TRF كوكو ترافل        30      1100305515  \n",
       "1             760800             Paris Espresso        30      1100305515  \n",
       "2             756800   Ristretto Italy ريستريتو       180      1100305515  \n",
       "3             772800  BC Van Ecler فانيلا اكلير        30      1100305515  \n",
       "4             776400             Freddo Intenso        30      1100305515  \n",
       "...              ...                        ...       ...             ...  \n",
       "73587         776500    ISP ARPEGGIO 20x53g R70       120      2100600447  \n",
       "73588         776500    ISP ARPEGGIO 20x53g R70       120      1100905041  \n",
       "73589         776500    ISP ARPEGGIO 20x53g R70        60      1100905041  \n",
       "73590         774600  ISP RIST DECAF 20x57g R70        60      1100905041  \n",
       "73591         776500    ISP ARPEGGIO 20x53g R70        30        C-046867  \n",
       "\n",
       "[73592 rows x 9 columns]"
      ]
     },
     "execution_count": 27,
     "metadata": {},
     "output_type": "execute_result"
    }
   ],
   "source": [
    "DataFrame"
   ]
  },
  {
   "cell_type": "code",
   "execution_count": 28,
   "id": "c8c0538e-3910-47cd-b117-518593283f14",
   "metadata": {},
   "outputs": [],
   "source": [
    "\n",
    "groupbyCustomer23 = DataFrame[(data[\"INVOICEDATE\"]>=\"2023-1-1\") & (data[\"INVOICEDATE\"]<=\"2023-12-31\")].groupby(\"CUSTOMERACCOUNT\")[\"QUANTITY\"].sum()"
   ]
  },
  {
   "cell_type": "code",
   "execution_count": 29,
   "id": "4b475364-0d6a-45ec-bf84-5d45dcdd776d",
   "metadata": {},
   "outputs": [
    {
     "data": {
      "text/plain": [
       "CUSTOMERACCOUNT\n",
       "220022014      450\n",
       "1000000112    1110\n",
       "1000000694     750\n",
       "1000000704    2100\n",
       "1000000705     120\n",
       "              ... \n",
       "C-051948        90\n",
       "C-052001        60\n",
       "C-052050      1500\n",
       "C-052056        60\n",
       "C-052073        60\n",
       "Name: QUANTITY, Length: 8612, dtype: int64"
      ]
     },
     "execution_count": 29,
     "metadata": {},
     "output_type": "execute_result"
    }
   ],
   "source": [
    "groupbyCustomer23"
   ]
  },
  {
   "cell_type": "code",
   "execution_count": 30,
   "id": "51698683-4030-474b-b9b2-9bba6a412f27",
   "metadata": {},
   "outputs": [
    {
     "name": "stdout",
     "output_type": "stream",
     "text": [
      "Base.\n",
      "Ultimate Base = 340\n",
      "Intensive Base = 973\n",
      "Regular Base = 1298\n",
      "Moderate Base = 6001\n"
     ]
    }
   ],
   "source": [
    "Ultimate = 0\n",
    "Intensive = 0\n",
    "Regular = 0\n",
    "Moderate = 0\n",
    "for quantity in groupbyCustomer23:\n",
    "    if quantity >= 1921:\n",
    "        Ultimate = Ultimate + 1\n",
    "    elif quantity >= 721:\n",
    "        Intensive = Intensive + 1\n",
    "    elif quantity >= 361:\n",
    "        Regular = Regular + 1\n",
    "    else:\n",
    "        Moderate = Moderate + 1\n",
    "print(\"Base.\")\n",
    "print(\"Ultimate Base =\", Ultimate)\n",
    "print(\"Intensive Base =\", Intensive)\n",
    "print(\"Regular Base =\", Regular)\n",
    "print(\"Moderate Base =\", Moderate)"
   ]
  },
  {
   "cell_type": "code",
   "execution_count": 31,
   "id": "bd74d4c8-2507-4149-996e-c4eedc08ff95",
   "metadata": {},
   "outputs": [
    {
     "name": "stdout",
     "output_type": "stream",
     "text": [
      "Sum Of All Segments Base: 8612\n"
     ]
    }
   ],
   "source": [
    "print(\"Sum Of All Segments Base:\",Ultimate + Intensive + Regular + Moderate)\n",
    "TotalBase = Ultimate + Intensive + Regular + Moderate"
   ]
  },
  {
   "cell_type": "code",
   "execution_count": 32,
   "id": "75cc22ec-c917-4ea4-87fc-cee06dcad1d9",
   "metadata": {},
   "outputs": [
    {
     "name": "stdout",
     "output_type": "stream",
     "text": [
      "Weight.\n",
      "Ultimate Weight = 3.95\n",
      "Intensive Weight = 11.3\n",
      "Regular Weight = 15.07\n",
      "Moderate Weight = 69.68\n"
     ]
    }
   ],
   "source": [
    "print(\"Weight.\")\n",
    "print(\"Ultimate Weight =\", round((Ultimate / TotalBase) * 100,2))\n",
    "print(\"Intensive Weight =\", round((Intensive / TotalBase) * 100,2))\n",
    "print(\"Regular Weight =\", round((Regular / TotalBase) * 100,2))\n",
    "print(\"Moderate Weight =\", round((Moderate / TotalBase) * 100,2))"
   ]
  },
  {
   "cell_type": "code",
   "execution_count": 33,
   "id": "786dcb35-2c5e-4fce-bf8c-f0f62dc4da29",
   "metadata": {},
   "outputs": [],
   "source": [
    "groupbyCustomer24 = DataFrame[(data[\"INVOICEDATE\"]>=\"2024-1-1\") & (data[\"INVOICEDATE\"]<=\"2024-12-31\")].groupby(\"CUSTOMERACCOUNT\")[\"QUANTITY\"].sum()"
   ]
  },
  {
   "cell_type": "code",
   "execution_count": 34,
   "id": "7aa0b205-1eb6-483c-bb3f-f721a8bc849c",
   "metadata": {},
   "outputs": [
    {
     "data": {
      "text/plain": [
       "CUSTOMERACCOUNT\n",
       "1000000065    120\n",
       "1000000320    240\n",
       "1000000462    390\n",
       "1000000481    180\n",
       "1000000512     90\n",
       "             ... \n",
       "C-058631      180\n",
       "C-058641      180\n",
       "C-058657      390\n",
       "C-058664      390\n",
       "C-058695      390\n",
       "Name: QUANTITY, Length: 4247, dtype: int64"
      ]
     },
     "execution_count": 34,
     "metadata": {},
     "output_type": "execute_result"
    }
   ],
   "source": [
    "groupbyCustomer24"
   ]
  },
  {
   "cell_type": "code",
   "execution_count": 35,
   "id": "2a461f34-a295-47a2-9e79-9ded88f8ca0a",
   "metadata": {},
   "outputs": [
    {
     "name": "stdout",
     "output_type": "stream",
     "text": [
      "Base.\n",
      "Ultimate Base = 141\n",
      "Intensive Base = 307\n",
      "Regular Base = 469\n",
      "Moderate Base = 3330\n"
     ]
    }
   ],
   "source": [
    "Ultimate = 0\n",
    "Intensive = 0\n",
    "Regular = 0\n",
    "Moderate = 0\n",
    "for quantity in groupbyCustomer24:\n",
    "    if quantity >= 1921:\n",
    "        Ultimate = Ultimate + 1\n",
    "    elif quantity >= 721:\n",
    "        Intensive = Intensive + 1\n",
    "    elif quantity >= 361:\n",
    "        Regular = Regular + 1\n",
    "    else:\n",
    "        Moderate = Moderate + 1\n",
    "print(\"Base.\")\n",
    "print(\"Ultimate Base =\", Ultimate)\n",
    "print(\"Intensive Base =\", Intensive)\n",
    "print(\"Regular Base =\", Regular)\n",
    "print(\"Moderate Base =\", Moderate)"
   ]
  },
  {
   "cell_type": "code",
   "execution_count": 36,
   "id": "06715b02-85e0-4595-ad04-37b9eb1861b1",
   "metadata": {},
   "outputs": [
    {
     "name": "stdout",
     "output_type": "stream",
     "text": [
      "Sum Of All Segments Base: 4247\n"
     ]
    }
   ],
   "source": [
    "print(\"Sum Of All Segments Base:\",Ultimate + Intensive + Regular + Moderate)\n",
    "TotalBase = Ultimate + Intensive + Regular + Moderate"
   ]
  },
  {
   "cell_type": "code",
   "execution_count": 37,
   "id": "aa7c092c-c172-4c3a-8309-4f411daf3af4",
   "metadata": {},
   "outputs": [
    {
     "name": "stdout",
     "output_type": "stream",
     "text": [
      "Weight.\n",
      "Ultimate Weight = 3.32\n",
      "Intensive Weight = 7.23\n",
      "Regular Weight = 11.04\n",
      "Moderate Weight = 78.41\n"
     ]
    }
   ],
   "source": [
    "print(\"Weight.\")\n",
    "print(\"Ultimate Weight =\", round((Ultimate / TotalBase) * 100,2))\n",
    "print(\"Intensive Weight =\", round((Intensive / TotalBase) * 100,2))\n",
    "print(\"Regular Weight =\", round((Regular / TotalBase) * 100,2))\n",
    "print(\"Moderate Weight =\", round((Moderate / TotalBase) * 100,2))"
   ]
  },
  {
   "cell_type": "code",
   "execution_count": 38,
   "id": "63acfd47-1e15-4253-888c-692e84a9d151",
   "metadata": {},
   "outputs": [
    {
     "name": "stdout",
     "output_type": "stream",
     "text": [
      "Base.\n",
      "Ultimate Capsules = 553230\n",
      "Intensive Capsules = 355290\n",
      "Regular Capsules = 250290\n",
      "Moderate Capsules = 331590\n"
     ]
    }
   ],
   "source": [
    "Ultimate = 0\n",
    "Intensive = 0\n",
    "Regular = 0\n",
    "Moderate = 0\n",
    "for quantity in groupbyCustomer24:\n",
    "    if quantity >= 1921:\n",
    "        Ultimate = Ultimate + quantity\n",
    "    elif quantity >= 721:\n",
    "        Intensive = Intensive + quantity\n",
    "    elif quantity >= 361:\n",
    "        Regular = Regular + quantity\n",
    "    else:\n",
    "        Moderate = Moderate + quantity\n",
    "print(\"Base.\")\n",
    "print(\"Ultimate Capsules =\", Ultimate)\n",
    "print(\"Intensive Capsules =\", Intensive)\n",
    "print(\"Regular Capsules =\", Regular)\n",
    "print(\"Moderate Capsules =\", Moderate)"
   ]
  },
  {
   "cell_type": "code",
   "execution_count": 39,
   "id": "af3e420b-1ecc-4855-93c4-73971339ca0a",
   "metadata": {},
   "outputs": [
    {
     "name": "stdout",
     "output_type": "stream",
     "text": [
      "Sum Of All Segments Capsules: 1490400\n"
     ]
    }
   ],
   "source": [
    "print(\"Sum Of All Segments Capsules:\",Ultimate + Intensive + Regular + Moderate)\n",
    "TotalBase = Ultimate + Intensive + Regular + Moderate"
   ]
  },
  {
   "cell_type": "code",
   "execution_count": 40,
   "id": "2e5d2960-68e6-4822-b649-886299c4edc7",
   "metadata": {},
   "outputs": [
    {
     "name": "stdout",
     "output_type": "stream",
     "text": [
      "Weight.\n",
      "Ultimate Weight = 37.12\n",
      "Intensive Weight = 23.84\n",
      "Regular Weight = 16.79\n",
      "Moderate Weight = 22.25\n"
     ]
    }
   ],
   "source": [
    "print(\"Weight.\")\n",
    "print(\"Ultimate Weight =\", round((Ultimate / TotalBase) * 100,2))\n",
    "print(\"Intensive Weight =\", round((Intensive / TotalBase) * 100,2))\n",
    "print(\"Regular Weight =\", round((Regular / TotalBase) * 100,2))\n",
    "print(\"Moderate Weight =\", round((Moderate / TotalBase) * 100,2))"
   ]
  },
  {
   "cell_type": "code",
   "execution_count": 41,
   "id": "4b4db2e8-8114-450f-a4bb-f7159761ac83",
   "metadata": {},
   "outputs": [
    {
     "name": "stdout",
     "output_type": "stream",
     "text": [
      "********************************************************************************\n"
     ]
    }
   ],
   "source": [
    "print(\"********************************************************************************\")"
   ]
  },
  {
   "cell_type": "code",
   "execution_count": 42,
   "id": "1a120515-8089-4bdb-9e9e-8d1d5984aaa0",
   "metadata": {},
   "outputs": [
    {
     "name": "stdout",
     "output_type": "stream",
     "text": [
      "The Summary Of Analysis\n"
     ]
    }
   ],
   "source": [
    "print(\"The Summary Of Analysis\")"
   ]
  },
  {
   "cell_type": "markdown",
   "id": "3bd712ec-a6f2-4c96-ae17-21e871a7cfae",
   "metadata": {},
   "source": [
    "# The Total Active Customers In 2023 Is: 8612.\n",
    "# The Total Active Customers In 2024 Is: 4247.\n",
    "# New Customers In 2024 IS: 2842.\n",
    "# Exicting Customers In 2024 IS: 1405\n",
    "# Attrition Rate In 2024 IS:  50.69 %\n",
    "# Sold Capsules In 2023 IS: 4124253\n",
    "# Sold Capsules In 2024 IS: 1490400\n",
    "# Number of Orders In 2023 IS: 14188\n",
    "# Number of Orders In 2024 IS: 6628\n",
    "# Average Order Size in Caps 2023 IS: 290.68\n",
    "# Average Order Size in Caps 2024 IS: 224.86"
   ]
  },
  {
   "cell_type": "markdown",
   "id": "1a580e5b-ff36-4526-ab5a-244c6b0ac7fd",
   "metadata": {},
   "source": [
    "# Please fill in number of customers in every segment\t\t\t"
   ]
  },
  {
   "cell_type": "markdown",
   "id": "1fb9199e-cb88-44c0-a0b0-4b1cd88844cd",
   "metadata": {},
   "source": [
    "# 2023"
   ]
  },
  {
   "cell_type": "markdown",
   "id": "a57ad72e-4266-4735-a12d-76c800b2d304",
   "metadata": {},
   "source": [
    "# Base.\n",
    "# Ultimate Base = 340\n",
    "# Intensive Base = 973\n",
    "# Regular Base = 1298\n",
    "# Moderate Base = 6001"
   ]
  },
  {
   "cell_type": "markdown",
   "id": "27c9568b-688b-47a0-b0aa-add91bfad95a",
   "metadata": {},
   "source": [
    "# Sum Of All Segments Base: 8612"
   ]
  },
  {
   "cell_type": "markdown",
   "id": "f22fac46-438f-4f56-88e9-2ea5c3d709ef",
   "metadata": {},
   "source": [
    "# Weight.\n",
    "# Ultimate Weight = 3.95\n",
    "# Intensive Weight = 11.3\n",
    "# Regular Weight = 15.07\n",
    "# Moderate Weight = 69.68"
   ]
  },
  {
   "cell_type": "markdown",
   "id": "74a51faa-7d56-40ae-b90f-d12c91568b7a",
   "metadata": {},
   "source": [
    "# 2024"
   ]
  },
  {
   "cell_type": "markdown",
   "id": "1c448cbb-b993-41b9-96f9-4419d9235c60",
   "metadata": {},
   "source": [
    "# Base.\n",
    "# Ultimate Base = 141\n",
    "# Intensive Base = 307\n",
    "# Regular Base = 469\n",
    "# Moderate Base = 3330"
   ]
  },
  {
   "cell_type": "markdown",
   "id": "e1ef6208-2926-43b2-83bb-5453a3f34ed9",
   "metadata": {},
   "source": [
    "# Sum Of All Segments Base: 4247"
   ]
  },
  {
   "cell_type": "markdown",
   "id": "a4298423-1c8d-4970-a7c5-5ebc7a0e7ca5",
   "metadata": {},
   "source": [
    "# Weight.\n",
    "# Ultimate Weight = 3.32\n",
    "# Intensive Weight = 7.23\n",
    "# Regular Weight = 11.04\n",
    "# Moderate Weight = 78.41"
   ]
  },
  {
   "cell_type": "markdown",
   "id": "5c3f4af6-7ee4-4698-8620-ce20f15fb904",
   "metadata": {},
   "source": [
    "# 2024"
   ]
  },
  {
   "cell_type": "markdown",
   "id": "0237ebf2-3665-49b2-a87b-1a2291ae13c1",
   "metadata": {},
   "source": [
    "# Base.\n",
    "# Ultimate Capsules = 553230\n",
    "# Intensive Capsules = 355290\n",
    "# Regular Capsules = 250290\n",
    "# Moderate Capsules = 331590"
   ]
  },
  {
   "cell_type": "markdown",
   "id": "89fe7a13-69bb-43ff-8489-d6375ba29c01",
   "metadata": {},
   "source": [
    "# Sum Of All Segments Base: 1490400"
   ]
  },
  {
   "cell_type": "markdown",
   "id": "6d14f130-77e7-4644-9c7b-8ba658988dc2",
   "metadata": {},
   "source": [
    "# Weight.\n",
    "# Ultimate Weight = 37.12\n",
    "# Intensive Weight = 23.84\n",
    "# Regular Weight = 16.79\n",
    "# Moderate Weight = 22.25"
   ]
  },
  {
   "cell_type": "markdown",
   "id": "a8fbecb4-28ba-4d13-a3ff-6dd8cdfc3d04",
   "metadata": {},
   "source": [
    "# >>>>>>>>>>>>>>>>>The End Thank You<<<<<<<<<<<<<<<<<"
   ]
  },
  {
   "cell_type": "code",
   "execution_count": null,
   "id": "2e6643af-63f4-42c8-a40b-5d063021f1ea",
   "metadata": {},
   "outputs": [],
   "source": []
  }
 ],
 "metadata": {
  "kernelspec": {
   "display_name": "Python 3 (ipykernel)",
   "language": "python",
   "name": "python3"
  },
  "language_info": {
   "codemirror_mode": {
    "name": "ipython",
    "version": 3
   },
   "file_extension": ".py",
   "mimetype": "text/x-python",
   "name": "python",
   "nbconvert_exporter": "python",
   "pygments_lexer": "ipython3",
   "version": "3.11.7"
  }
 },
 "nbformat": 4,
 "nbformat_minor": 5
}
